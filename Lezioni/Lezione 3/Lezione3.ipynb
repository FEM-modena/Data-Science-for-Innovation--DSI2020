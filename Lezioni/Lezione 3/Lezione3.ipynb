{
 "cells": [
  {
   "cell_type": "markdown",
   "metadata": {},
   "source": [
    "## 4. Tipi di dati e conversione di tipologia\n",
    "\n",
    "### 4.1 Ogni valore ha un tipologia.\n",
    "* Ogni valore di un programma ha un tipo specifico.\n",
    "* Intero (`int`): rappresenta numeri interi positivi o negativi come 3 o -512.\n",
    "* Numero a virgola mobile (float): rappresenta numeri reali come 3.14159 o -2.5.\n",
    "* Stringa di caratteri (di solito chiamata \"stringa\", `str`): testo.\n",
    "    * Scritto tra virgolette singole o doppie (purché corrispondano).\n",
    "    * Le virgolette non vengono stampate quando la stringa viene visualizzata."
   ]
  },
  {
   "cell_type": "markdown",
   "metadata": {},
   "source": [
    "### 4.2 Usare la funzione integrata `type` per trovare il tipo di valore."
   ]
  },
  {
   "cell_type": "markdown",
   "metadata": {},
   "source": [
    "* Usare la funzione incorporata `type` per scoprire che tipologia è un valore.\n",
    "* Funziona anche sulle variabili.\n",
    "    * Ma ricordate: il *valore* ha il tipo --- la *variabile* è solo un'etichetta.\n"
   ]
  },
  {
   "cell_type": "code",
   "execution_count": null,
   "metadata": {},
   "outputs": [],
   "source": [
    "print(type(46))"
   ]
  },
  {
   "cell_type": "code",
   "execution_count": null,
   "metadata": {},
   "outputs": [],
   "source": [
    "cibo = 'pizza'\n",
    "print(type(cibo))"
   ]
  },
  {
   "cell_type": "markdown",
   "metadata": {},
   "source": [
    "### 4.3 I tipi di dati controllano quali operazioni (o metodi) possono essere eseguite su un dato valore.\n",
    "\n",
    "* Il tipo di valore determina ciò che il programma può fare ad esso.\n"
   ]
  },
  {
   "cell_type": "code",
   "execution_count": null,
   "metadata": {},
   "outputs": [],
   "source": [
    "print(5 - 3)"
   ]
  },
  {
   "cell_type": "code",
   "execution_count": null,
   "metadata": {},
   "outputs": [],
   "source": [
    "print('hello' - 'h')"
   ]
  },
  {
   "cell_type": "markdown",
   "metadata": {},
   "source": [
    "### 4.4 Potete usare gli operatori \"+\" e \"*\" sulle stringhe (strings).\n",
    "* L'aggiunta di stringhe di caratteri li concatenano.\n"
   ]
  },
  {
   "cell_type": "code",
   "execution_count": null,
   "metadata": {},
   "outputs": [],
   "source": [
    "nome_completo = 'Lorenzo' + ' ' + 'Andreoli'\n",
    "print(nome_completo)"
   ]
  },
  {
   "cell_type": "markdown",
   "metadata": {},
   "source": [
    "* Moltiplicando una stringa di caratteri per un intero _N_ si crea una nuova stringa che consiste di quella stringa di caratteri ripetuta _N_ volte.\n",
    "    * Poiché la moltiplicazione è un'aggiunta ripetuta."
   ]
  },
  {
   "cell_type": "code",
   "execution_count": null,
   "metadata": {},
   "outputs": [],
   "source": [
    "divisore = '=' * 10\n",
    "print(divisore)"
   ]
  },
  {
   "cell_type": "markdown",
   "metadata": {},
   "source": [
    "### 4.5 Le stringhe hanno una lunghezza (ma i numeri no).\n",
    "* La funzione integrata `len` conta il numero di caratteri di una stringa."
   ]
  },
  {
   "cell_type": "code",
   "execution_count": null,
   "metadata": {},
   "outputs": [],
   "source": [
    "print(len(nome_completo))"
   ]
  },
  {
   "cell_type": "markdown",
   "metadata": {},
   "source": [
    "* Ma i numeri non hanno una lunghezza (nemmeno zero)."
   ]
  },
  {
   "cell_type": "code",
   "execution_count": null,
   "metadata": {},
   "outputs": [],
   "source": [
    "print(len(52))"
   ]
  },
  {
   "cell_type": "markdown",
   "metadata": {},
   "source": [
    "### 4.6 Devi convertire i numeri in stringhe o viceversa quando operi su di esse.\n",
    "* Non è possibile aggiungere numeri e stringhe.\n"
   ]
  },
  {
   "cell_type": "code",
   "execution_count": null,
   "metadata": {},
   "outputs": [],
   "source": [
    "print(1 + '2')\n"
   ]
  },
  {
   "cell_type": "markdown",
   "metadata": {},
   "source": [
    "* Non è permesso perché è ambiguo: 1 + '2' `1 + '2' `3' o `'12''?\n",
    "* Alcuni tipi possono essere convertiti in altri tipi usando il nome del tipo come funzione."
   ]
  },
  {
   "cell_type": "code",
   "execution_count": null,
   "metadata": {},
   "outputs": [],
   "source": [
    "print(1 + int('2'))\n",
    "print(str(1) + '2')"
   ]
  },
  {
   "cell_type": "markdown",
   "metadata": {},
   "source": [
    "### 4.7 Può mescolare interi e galleggianti liberamente nelle operazioni.\n",
    "\n",
    "* I numeri interi e i numeri a virgola mobile possono essere mescolati in aritmetica.\n",
    "    * Python 3 converte automaticamente gli interi in numeri fluttuanti a seconda delle necessità. (La divisione intera in Python 2 restituirà un intero, il *pavimento* della divisione)."
   ]
  },
  {
   "cell_type": "code",
   "execution_count": null,
   "metadata": {},
   "outputs": [],
   "source": [
    "print('half is', 1 / 2.0)\n",
    "print('three squared is', 3.0 ** 2)"
   ]
  },
  {
   "cell_type": "markdown",
   "metadata": {},
   "source": [
    "### 4.8 Le variabili cambiano valore solo quando viene loro assegnato qualcosa.\n",
    "* Se facciamo dipendere una cella di un foglio di calcolo da un'altra, e aggiornare quest'ultimo, i precedenti si aggiornano automaticamente.\n",
    "* Questo non avviene nei linguaggi di programmazione.\n"
   ]
  },
  {
   "cell_type": "code",
   "execution_count": null,
   "metadata": {},
   "outputs": [],
   "source": [
    "first = 1\n",
    "second = 5 * first\n",
    "first = 2\n",
    "print('first is', first, 'and second is', second)"
   ]
  },
  {
   "cell_type": "markdown",
   "metadata": {},
   "source": [
    "* Il computer legge il valore di \"prima\" quando fa la moltiplicazione,\n",
    "    crea un nuovo valore e lo assegna al \"secondo\".\n",
    "* Dopo di che, `secondo` non ricorda da dove viene."
   ]
  },
  {
   "cell_type": "markdown",
   "metadata": {},
   "source": [
    "### 4.9 Riassunto delle tipologie di Variabili"
   ]
  },
  {
   "cell_type": "markdown",
   "metadata": {},
   "source": [
    "| **Variable Type** | **Definition**   | **Examples** |\n",
    "|------|------|------|\n",
    "|   Integer  |Positive and negative whole numbers|42, -10, 0|\n",
    "|   Double  |Positive and negative decimal numbers|73.9, 2.4, 0.0|\n",
    "|   String  |Sequence of characters|\"Come va?\", \"variabili\"|\n",
    "|   Boolean  |True or false value|True, False|\n",
    "\n",
    "\n",
    "***"
   ]
  },
  {
   "cell_type": "markdown",
   "metadata": {},
   "source": [
    "## 5. Le Funzioni\n",
    "\n",
    "Finora avete imparato ad eseguire operazioni di base sui vostri input e ad assegnare variabili a determinati valori. Ora cerchiamo di essere più efficienti.\n",
    "\n",
    "Diciamo che vogliamo eseguire una certa operazione su molti ingressi diversi che produrranno uscite distinte. Cosa facciamo? Scriviamo una ***funzione*** (function).\n",
    "\n",
    "Una funzione è un blocco di codice che funziona come una macchina: prende un ingresso/input, gli fa qualcosa e produce un'uscita/output.\n",
    "\n",
    "L'input viene messo tra parentesi e può anche essere chiamato *argomento o parametro*. Le funzioni possono avere più argomenti.\n",
    "\n",
    "Provate ad eseguire la cella sottostante dopo aver cambiato il nome della variabile:"
   ]
  },
  {
   "cell_type": "code",
   "execution_count": 44,
   "metadata": {},
   "outputs": [
    {
     "data": {
      "text/plain": [
       "'Hello Lorenzo Andreoli!'"
      ]
     },
     "execution_count": 44,
     "metadata": {},
     "output_type": "execute_result"
    }
   ],
   "source": [
    "# Cambia la cella con il tuo nome\n",
    "name = \"Lorenzo Andreoli\"\n",
    "\n",
    "# La funzione\n",
    "def hello(name):\n",
    "    return \"Hello \" + name + \"!\"\n",
    "\n",
    "hello(name)"
   ]
  },
  {
   "cell_type": "markdown",
   "metadata": {},
   "source": [
    "Immagina di volere scrivere un messaggio personalizzato per ogni persona in questa stanza. Basta scrivere una funzione che faccia tutto il lavoro per noi!\n",
    "\n",
    "Le funzioni sono molto utili nella programmazione perché aiutano a scrivere codice più breve e più modulare. Un buon esempio a cui pensare è la funzione di `print`. Prende molti input diversi ed esegue il compito specificato, stampando il suo input, in modo semplice.\n",
    "\n",
    "Ora, scriviamo la nostra funzione. Vediamo le seguenti regole:\n",
    "\n",
    "**Definizione/Defining** \n",
    "* Tutte le funzioni devono iniziare con la parola chiave \"def\".\n",
    "* Tutte le funzioni devono avere un nome, seguito da una parentesi, seguito da un punto e virgola. Es.  **def hello( ):**\n",
    "* Le parentesi possono avere una variabile che memorizza i suoi argomenti (input)\n",
    "* Tutte le funzioni devono avere una dichiarazione di \"ritorno\" che restituisca l'uscita. Pensate ad una funzione come ad una macchina. Quando si mette dentro qualcosa, si vuole che restituisca qualcosa. Quindi, questo è molto importante.\n",
    "\n",
    "**Chiamare/Calling**\n",
    "\n",
    "Dopo aver definito una funzione, è il momento di utilizzarla. Questo si chiama *chiamare* una funzione.\n",
    "\n",
    "Per chiamare una funzione, scrivete semplicemente il nome della funzione con la vostra variabile di ingresso tra parentesi (argomento)."
   ]
  },
  {
   "cell_type": "code",
   "execution_count": 45,
   "metadata": {},
   "outputs": [
    {
     "ename": "SyntaxError",
     "evalue": "invalid syntax (<ipython-input-45-f588b7e91c0f>, line 2)",
     "output_type": "error",
     "traceback": [
      "\u001b[0;36m  File \u001b[0;32m\"<ipython-input-45-f588b7e91c0f>\"\u001b[0;36m, line \u001b[0;32m2\u001b[0m\n\u001b[0;31m    def #nome_funzione(argument): #dai un nome alla tua funzione\u001b[0m\n\u001b[0m                                                                ^\u001b[0m\n\u001b[0;31mSyntaxError\u001b[0m\u001b[0;31m:\u001b[0m invalid syntax\n"
     ]
    }
   ],
   "source": [
    "# Completa questa funzione\n",
    "def #nome_funzione(argument): #dai un nome alla tua funzione\n",
    "    return # le funzioni devono ritornare un valore\n",
    "\n",
    "# Chiamiamo la nostra prima funzione...\n",
    "#nome_funzione(\"\")"
   ]
  },
  {
   "cell_type": "code",
   "execution_count": null,
   "metadata": {},
   "outputs": [],
   "source": [
    "# scrivi una funzione che ritorna il quadrato di qualsiasi numero\n"
   ]
  },
  {
   "cell_type": "code",
   "execution_count": 40,
   "metadata": {},
   "outputs": [
    {
     "ename": "NameError",
     "evalue": "name 'radice' is not defined",
     "output_type": "error",
     "traceback": [
      "\u001b[0;31m---------------------------------------------------------------------------\u001b[0m",
      "\u001b[0;31mNameError\u001b[0m                                 Traceback (most recent call last)",
      "\u001b[0;32m<ipython-input-40-01593fbbcd1c>\u001b[0m in \u001b[0;36m<module>\u001b[0;34m\u001b[0m\n\u001b[0;32m----> 1\u001b[0;31m \u001b[0mradice\u001b[0m\u001b[0;34m(\u001b[0m\u001b[0;36m5\u001b[0m\u001b[0;34m)\u001b[0m\u001b[0;34m\u001b[0m\u001b[0;34m\u001b[0m\u001b[0m\n\u001b[0m",
      "\u001b[0;31mNameError\u001b[0m: name 'radice' is not defined"
     ]
    }
   ],
   "source": [
    "quadrato(5)"
   ]
  },
  {
   "cell_type": "markdown",
   "metadata": {},
   "source": [
    "congratulazioni hai appena scritto da zero la tua prima funzione!\n",
    "***"
   ]
  },
  {
   "cell_type": "markdown",
   "metadata": {},
   "source": [
    "## 6. Ambito di applicazione / Scope\n",
    "\n",
    "La programmazione è ottima ma a volte può anche essere piuttosto particolare. Per esempio, ogni variabile definita al di fuori di qualsiasi funzione di default, è globale. Cosa vuol dire?\n",
    "\n",
    "Provate ad eseguire il codice qui sotto:"
   ]
  },
  {
   "cell_type": "code",
   "execution_count": 51,
   "metadata": {},
   "outputs": [
    {
     "data": {
      "text/plain": [
       "'Hi Harry Potter, nice to meet you!'"
      ]
     },
     "execution_count": 51,
     "metadata": {},
     "output_type": "execute_result"
    }
   ],
   "source": [
    "# Global Variable - name\n",
    "name = \"Harry Potter\"\n",
    "\n",
    "# our function\n",
    "def salutation(name):\n",
    "    return \"Hi \" + name + \", nice to meet you!\"\n",
    "\n",
    "# calling our function\n",
    "salutation(name)\n",
    "\n",
    "# un-comment the line below\n",
    "#salutation(\"Roonald Wazlib\")"
   ]
  },
  {
   "cell_type": "markdown",
   "metadata": {},
   "source": [
    "Anche se il vostro argomento è stato chiamato *name*, non ha prodotto Harry Potter, che era il valore globale della variabile chiamata *name*. Invece, ha dato la preferenza al valore locale che è stato dato alla funzione come argomento, Roonald Wazlib.\n",
    "\n",
    "Pensatelo come se riempisse la vostra caffettiera (funzione) di caffè (variabile). Se avete una variabile con accesso **globale** chiamata *name* che è riempita di caffè chiamata *Harry Potter*, potete scegliere di fare una delle due cose:\n",
    "\n",
    "1) Non inserite un altro valore nella vostra funzione. (Utilizzate lo stesso nome della variabile **globale** come argomento)\n",
    "\n",
    "In questo caso, verrà comunque utilizzato il tipo di caffè **globale**.\n",
    "\n",
    "2) Scegliere di riempire un altro valore. In questo caso la vostra funzione assegnerà il valore che passerete come argomento alla \"variabile\" che è l'argomento.\n",
    "\n",
    "Pensatelo come se sovrascriveste il vostro caffè **globale** e mettete un nuovo tipo di caffè nella vostra caffettiera."
   ]
  },
  {
   "cell_type": "code",
   "execution_count": 60,
   "metadata": {
    "scrolled": true
   },
   "outputs": [
    {
     "data": {
      "text/plain": [
       "35"
      ]
     },
     "execution_count": 60,
     "metadata": {},
     "output_type": "execute_result"
    }
   ],
   "source": [
    "# Scope Puzzle!\n",
    "x = 5\n",
    "y = 6\n",
    "z = 7\n",
    "\n",
    "def puzzle(x, z):\n",
    "    return x * z\n",
    "\n",
    "# fill in this function call\n",
    "puzzle()\n"
   ]
  },
  {
   "cell_type": "markdown",
   "metadata": {},
   "source": []
  },
  {
   "cell_type": "code",
   "execution_count": null,
   "metadata": {},
   "outputs": [],
   "source": []
  },
  {
   "cell_type": "code",
   "execution_count": null,
   "metadata": {},
   "outputs": [],
   "source": []
  },
  {
   "cell_type": "code",
   "execution_count": null,
   "metadata": {},
   "outputs": [],
   "source": []
  },
  {
   "cell_type": "code",
   "execution_count": null,
   "metadata": {},
   "outputs": [],
   "source": []
  },
  {
   "cell_type": "code",
   "execution_count": null,
   "metadata": {},
   "outputs": [],
   "source": []
  },
  {
   "cell_type": "code",
   "execution_count": null,
   "metadata": {},
   "outputs": [],
   "source": []
  },
  {
   "cell_type": "code",
   "execution_count": null,
   "metadata": {},
   "outputs": [],
   "source": []
  },
  {
   "cell_type": "code",
   "execution_count": null,
   "metadata": {},
   "outputs": [],
   "source": []
  },
  {
   "cell_type": "code",
   "execution_count": null,
   "metadata": {},
   "outputs": [],
   "source": []
  },
  {
   "cell_type": "code",
   "execution_count": null,
   "metadata": {},
   "outputs": [],
   "source": []
  },
  {
   "cell_type": "code",
   "execution_count": null,
   "metadata": {},
   "outputs": [],
   "source": []
  },
  {
   "cell_type": "code",
   "execution_count": null,
   "metadata": {},
   "outputs": [],
   "source": []
  },
  {
   "cell_type": "code",
   "execution_count": null,
   "metadata": {},
   "outputs": [],
   "source": []
  },
  {
   "cell_type": "code",
   "execution_count": null,
   "metadata": {},
   "outputs": [],
   "source": []
  },
  {
   "cell_type": "code",
   "execution_count": null,
   "metadata": {},
   "outputs": [],
   "source": []
  },
  {
   "cell_type": "code",
   "execution_count": null,
   "metadata": {},
   "outputs": [],
   "source": []
  }
 ],
 "metadata": {
  "kernelspec": {
   "display_name": "Python 3",
   "language": "python",
   "name": "python3"
  },
  "language_info": {
   "codemirror_mode": {
    "name": "ipython",
    "version": 3
   },
   "file_extension": ".py",
   "mimetype": "text/x-python",
   "name": "python",
   "nbconvert_exporter": "python",
   "pygments_lexer": "ipython3",
   "version": "3.7.4"
  }
 },
 "nbformat": 4,
 "nbformat_minor": 4
}
